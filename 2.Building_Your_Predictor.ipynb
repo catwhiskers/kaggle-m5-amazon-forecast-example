{
 "cells": [
  {
   "cell_type": "markdown",
   "metadata": {},
   "source": [
    "# Building Your Predictor\n",
    "\n",
    "Forecasting is used in a variety of applications and business use cases: For example, retailers need to forecast the sales of their products to decide how much stock they need by location, Manufacturers need to estimate the number of parts required at their factories to optimize their supply chain, Businesses need to estimate their flexible workforce needs, Utilities need to forecast electricity consumption needs in order to attain an efficient energy network, and enterprises need to estimate their cloud infrastructure needs.\n",
    "\n",
    "<img src=\"https://amazon-forecast-samples.s3-us-west-2.amazonaws.com/common/images/forecast_overview_steps.png\" width=\"98%\">\n",
    "\n",
    "In this notebook we will be walking through the steps outlined in 2nd-through-4th boxes above to build and query your first forecast.\n",
    "\n",
    "\n",
    "## Table Of Contents\n",
    "* Step 1: [Setup Amazon Forecast](#setup)\n",
    "* Step 2: [Create a Predictor](#createPredictor)\n",
    "* Step 3: [Get Predictor Error Metrics from Backtesting](#predictorErrors)\n",
    "* Step 4: [Create a Forecast](#createForecast)\n",
    "* Step 5: [Query the Forecast](#queryForecast)\n",
    "* [Next Steps](#nextSteps)\n",
    "\n",
    "For more informations about APIs, please check the [documentation](https://docs.aws.amazon.com/forecast/latest/dg/what-is-forecast.html)"
   ]
  },
  {
   "cell_type": "markdown",
   "metadata": {},
   "source": [
    "## Step 1: Setup Amazon Forecast<a class=\"anchor\" id=\"setup\"></a>\n"
   ]
  },
  {
   "cell_type": "markdown",
   "metadata": {},
   "source": [
    "This section sets up the permissions and relevant endpoints."
   ]
  },
  {
   "cell_type": "code",
   "execution_count": 1,
   "metadata": {},
   "outputs": [],
   "source": [
    "import sys\n",
    "import os\n",
    "import time\n",
    "import pandas as pd\n",
    "\n",
    "# importing forecast notebook utility from notebooks/common directory\n",
    "sys.path.insert( 0, os.path.abspath(\"./common\") )\n",
    "import util\n",
    "\n",
    "%reload_ext autoreload\n",
    "import boto3\n",
    "import s3fs"
   ]
  },
  {
   "cell_type": "markdown",
   "metadata": {},
   "source": [
    "The line below will retrieve your stored variables from the first notebook."
   ]
  },
  {
   "cell_type": "code",
   "execution_count": 2,
   "metadata": {},
   "outputs": [
    {
     "name": "stdout",
     "output_type": "stream",
     "text": [
      "project = m5_sku_prediction_2m\n",
      "data_version = 4\n",
      "Forecast length = 2\n",
      "Dataset frequency = M\n",
      "Timestamp format = yyyy-MM-dd\n",
      "dataset_group_arn = arn:aws:forecast:us-west-2:230755935769:dataset-group/m5_sku_prediction_2m_4\n",
      "role_arn = arn:aws:iam::230755935769:role/ForecastNotebookRole\n",
      "bucket_name = sagemaker-us-west-2-230755935769\n",
      "region = us-west-2\n"
     ]
    }
   ],
   "source": [
    "%store -r\n",
    "\n",
    "# Print your choices from first notebook\n",
    "# print(f\"item_id = {item_id}\")\n",
    "print(f\"project = {PROJECT}\")\n",
    "print(f\"data_version = {DATA_VERSION}\")\n",
    "print(f\"Forecast length = {FORECAST_LENGTH}\")\n",
    "print(f\"Dataset frequency = {DATASET_FREQUENCY}\")\n",
    "print(f\"Timestamp format = {TIMESTAMP_FORMAT}\")\n",
    "print(f\"dataset_group_arn = {dataset_group_arn}\")\n",
    "print(f\"role_arn = {role_arn}\")\n",
    "%store -r bucket_name\n",
    "print(f\"bucket_name = {bucket_name}\")\n",
    "%store -r region\n",
    "print(f\"region = {region}\")"
   ]
  },
  {
   "cell_type": "markdown",
   "metadata": {},
   "source": [
    "The last part of the setup process is to validate that your account can communicate with Amazon Forecast, the cell below does just that."
   ]
  },
  {
   "cell_type": "code",
   "execution_count": 3,
   "metadata": {},
   "outputs": [],
   "source": [
    "# Connect API session\n",
    "session = boto3.Session(region_name=region) \n",
    "forecast = session.client(service_name='forecast') \n",
    "forecastquery = session.client(service_name='forecastquery')"
   ]
  },
  {
   "cell_type": "markdown",
   "metadata": {},
   "source": [
    "## Step 2: Create a Predictor <a class=\"anchor\" id=\"createPredictor\"></a>\n",
    "\n",
    "Once the datasets are specified with the corresponding schema, Amazon Forecast will automatically aggregate, at the specified time granularity, all the relevant pieces of information for each item, such as sales, price, promotions, as well as categorical attributes, and generate the desired dataset. Next, one can choose an algorithm (forecasting model) and evaluate how well this particular algorithm works on this dataset. The following graph gives a high-level overview of the forecasting models.\n",
    "<img src=\"https://amazon-forecast-samples.s3-us-west-2.amazonaws.com/common/images/recipes.png\" width=\"98%\">\n",
    "<img src=\"https://amazon-forecast-samples.s3-us-west-2.amazonaws.com/common/images/mqcnn.png\" width=\"70%\">\n",
    "<img src=\"https://amazon-forecast-samples.s3-us-west-2.amazonaws.com/common/images/pred_details.png\">\n",
    "\n",
    "\n",
    "Amazon Forecast provides several state-of-the-art forecasting algorithms including classic forecasting methods such as ETS, ARIMA, Prophet and deep learning approaches such as DeepAR+. Classical forecasting methods, such as Autoregressive Integrated Moving Average (ARIMA) or Exponential Smoothing (ETS), fit a single model to each individual time series, and then use that model to extrapolate the time series into the future. Amazon's Non-Parametric Time Series (NPTS) forecaster also fits a single model to each individual time series.  Unlike the naive or seasonal naive forecasters that use a fixed time index (the previous index $T-1$ or the past season $T - \\tau$) as the prediction for time step $T$, NPTS randomly samples a time index $t \\in \\{0, \\dots T-1\\}$ in the past to generate a sample for the current time step $T$.\n",
    "\n",
    "In many applications, you may encounter many similar time series across a set of cross-sectional units. Examples of such time series groupings are demand for different products, server loads, and requests for web pages. In this case, it can be beneficial to train a single model jointly over all of these time series. CNN-QR and DeepAR+ take this approach, outperforming the standard ARIMA and ETS methods when your dataset contains hundreds of related time series. The trained model can also be used for generating forecasts for new time series that are similar to the ones it has been trained on. \n",
    "\n",
    "While deep learning approaches can outperform standard methods, this is only possible when there is sufficient data available for training. It is not true for example when one trains a neural network with a time-series containing only a few dozen observations. Amazon Forecast provides the best of two worlds allowing users to either choose a specific algorithm or let Amazon Forecast automatically perform model selection. \n",
    "\n",
    "\n",
    "## How to evaluate a forecasting model?\n",
    "\n",
    "Before moving forward, let's first introduce the notion of *backtest* when evaluating forecasting models. The key difference between evaluating forecasting algorithms and standard ML applications is that we need to make sure there is no future information gets used in the past. In other words, the procedure needs to be causal. \n",
    "\n",
    "<img src=\"https://amazon-forecast-samples.s3-us-west-2.amazonaws.com/common/images/backtest.png\" width=70%>\n",
    "\n"
   ]
  },
  {
   "cell_type": "code",
   "execution_count": 4,
   "metadata": {},
   "outputs": [
    {
     "name": "stdout",
     "output_type": "stream",
     "text": [
      "Predictor Name = m5_sku_prediction_2m_4\n"
     ]
    }
   ],
   "source": [
    "# Which algorithm do you want to use?  Choices are:\n",
    "# 1. Choose PerformAutoML=True if you want to let Amazon Forecast choose a recipe automatically.  \n",
    "# 2. If you know which recipe you want, the next level of automation is PerformHPO=True.\n",
    "# 3. Finally, you can specify exactly which recipe and enter your own hyperparameter values\n",
    "# https://docs.aws.amazon.com/forecast/latest/dg/aws-forecast-choosing-recipes.html\n",
    "\n",
    "algorithm_arn_prefix = 'arn:aws:forecast:::algorithm/'\n",
    "algorithm = 'CNN-QR'\n",
    "algorithm_arn = algorithm_arn_prefix + algorithm\n",
    "predictor = f\"{PROJECT}_{DATA_VERSION}\"\n",
    "print(f\"Predictor Name = {predictor}\")"
   ]
  },
  {
   "cell_type": "code",
   "execution_count": 5,
   "metadata": {},
   "outputs": [],
   "source": [
    "create_predictor_response = \\\n",
    "    forecast.create_auto_predictor(PredictorName=predictor, \n",
    "                                 ForecastHorizon=FORECAST_LENGTH,\n",
    "                                 ForecastFrequency=DATASET_FREQUENCY, \n",
    "                                 OptimizationMetric='RMSE',\n",
    "                                 ExplainPredictor=True,  \n",
    "                                 ForecastDimensions=['store_id', 'state_id'],\n",
    "                                 DataConfig={\n",
    "                                        'DatasetGroupArn': dataset_group_arn,\n",
    "                                        'AttributeConfigs': [\n",
    "                                            {\n",
    "                                                'AttributeName': \"demand\",\n",
    "                                                'Transformations': {\n",
    "                                                    \"aggregation\": \"sum\",\n",
    "                                                    \"backfill\": \"zero\",\n",
    "                                                    \"frontfill\": \"none\",\n",
    "                                                    \"middlefill\": \"zero\"\n",
    "                                                }\n",
    "                                            },\n",
    "                                    \n",
    "#                                             {\n",
    "#                                                 'AttributeName': \"rolling_mean_t4\",\n",
    "#                                                 'Transformations': {\n",
    "#                                                     \"backfill\": \"mean\",\n",
    "#                                                     \"futurefill\": \"mean\",\n",
    "#                                                     \"middlefill\": \"mean\"\n",
    "#                                                 }\n",
    "#                                             },\n",
    "#                                             {\n",
    "#                                                 'AttributeName': \"rolling_std_t4\",\n",
    "#                                                 'Transformations': {\n",
    "#                                                     \"backfill\": \"mean\",\n",
    "#                                                     \"futurefill\": \"mean\",\n",
    "#                                                     \"middlefill\": \"mean\"\n",
    "#                                                 }\n",
    "#                                             },\n",
    "#                                             {\n",
    "#                                                 'AttributeName': \"rolling_mean_t12\",\n",
    "#                                                 'Transformations': {\n",
    "#                                                     \"backfill\": \"mean\",\n",
    "#                                                     \"futurefill\": \"mean\",\n",
    "#                                                     \"middlefill\": \"mean\"\n",
    "#                                                 }\n",
    "#                                             },\n",
    "#                                             {\n",
    "#                                                 'AttributeName': \"rolling_mean_t24\",\n",
    "#                                                 'Transformations': {\n",
    "#                                                     \"backfill\": \"mean\",\n",
    "#                                                     \"futurefill\": \"mean\",\n",
    "#                                                     \"middlefill\": \"mean\"\n",
    "#                                                 }\n",
    "#                                             },\n",
    "                                        ]\n",
    "                                    \n",
    "                                    }\n",
    "                                )  \n",
    "\n",
    "                                \n"
   ]
  },
  {
   "cell_type": "raw",
   "metadata": {},
   "source": [
    "create_predictor_response = \\\n",
    "\n",
    "    forecast.create_predictor(PredictorName=predictor,\n",
    "#                               AlgorithmArn=algorithm,\n",
    "                              ForecastHorizon=FORECAST_LENGTH,\n",
    "                              PerformAutoML=True,\n",
    "                              OptimizationMetric='RMSE',\n",
    "\n",
    "#                               PerformHPO=True,\n",
    "                              InputDataConfig= {\"DatasetGroupArn\": dataset_group_arn},\n",
    "                               EvaluationParameters = { \n",
    "                                  \"NumberOfBacktestWindows\": 3\n",
    "                               },\n",
    "                              FeaturizationConfig= {\"ForecastFrequency\": DATASET_FREQUENCY, \n",
    "                                                   'Featurizations': \n",
    "                                                    [\n",
    "                                                        {\n",
    "                                                            \"AttributeName\": \"demand\",\n",
    "                                                            \"FeaturizationPipeline\": [\n",
    "                                                                {\n",
    "                                                                    \"FeaturizationMethodName\": \"filling\",\n",
    "                                                                    \"FeaturizationMethodParameters\": {\n",
    "                                                                        \"aggregation\": \"sum\",\n",
    "                                                                        \"backfill\": \"zero\",\n",
    "                                                                        \"frontfill\": \"none\",\n",
    "                                                                        \"middlefill\": \"zero\"\n",
    "                                                                    }\n",
    "                                                                }\n",
    "                                                            ]\n",
    "                                                        },\n",
    "                                                       \n",
    "                                                        \n",
    "                                                        {\n",
    "                                                            \"AttributeName\": \"rolling_mean_t4\",\n",
    "                                                            \"FeaturizationPipeline\": [\n",
    "                                                                {\n",
    "                                                                    \"FeaturizationMethodName\": \"filling\",\n",
    "                                                                    \"FeaturizationMethodParameters\": {\n",
    "                                                                        \"backfill\": \"mean\",\n",
    "                                                                        \"futurefill\": \"mean\",\n",
    "                                                                        \"middlefill\": \"mean\"\n",
    "                                                                    }\n",
    "                                                                }\n",
    "                                                            ]\n",
    "                                                        }, \n",
    "                                                        {\n",
    "                                                            \"AttributeName\": \"rolling_std_t4\",\n",
    "                                                            \"FeaturizationPipeline\": [\n",
    "                                                                {\n",
    "                                                                    \"FeaturizationMethodName\": \"filling\",\n",
    "                                                                    \"FeaturizationMethodParameters\": {\n",
    "                                                                        \"backfill\": \"mean\",\n",
    "                                                                        \"futurefill\": \"mean\",\n",
    "                                                                        \"middlefill\": \"mean\"\n",
    "                                                                    }\n",
    "                                                                }\n",
    "                                                            ]\n",
    "                                                        },\n",
    "                                                        {\n",
    "                                                            \"AttributeName\": \"rolling_mean_t12\",\n",
    "                                                            \"FeaturizationPipeline\": [\n",
    "                                                                {\n",
    "                                                                    \"FeaturizationMethodName\": \"filling\",\n",
    "                                                                    \"FeaturizationMethodParameters\": {\n",
    "                                                                        \"backfill\": \"mean\",\n",
    "                                                                        \"futurefill\": \"mean\",\n",
    "                                                                        \"middlefill\": \"mean\"\n",
    "                                                                    }\n",
    "                                                                }\n",
    "                                                            ]\n",
    "                                                        }, \n",
    "                                                        {\n",
    "                                                            \"AttributeName\": \"rolling_mean_t24\",\n",
    "                                                            \"FeaturizationPipeline\": [\n",
    "                                                                {\n",
    "                                                                    \"FeaturizationMethodName\": \"filling\",\n",
    "                                                                    \"FeaturizationMethodParameters\": {\n",
    "                                                                        \"backfill\": \"mean\",\n",
    "                                                                        \"futurefill\": \"mean\",\n",
    "                                                                        \"middlefill\": \"mean\"\n",
    "                                                                    }\n",
    "                                                                }\n",
    "                                                            ]\n",
    "                                                        }\n",
    "                                                        \n",
    "                                                        \n",
    "                                                    ]\n",
    "\n",
    "                                                }\n",
    "                                            )"
   ]
  },
  {
   "cell_type": "code",
   "execution_count": 6,
   "metadata": {},
   "outputs": [],
   "source": [
    "predictor_arn = create_predictor_response['PredictorArn']"
   ]
  },
  {
   "cell_type": "markdown",
   "metadata": {},
   "source": [
    "Check the status of the predictor. When the status change from **CREATE_IN_PROGRESS** to **ACTIVE**, we can continue to next steps. Depending on data size, model selection and choice of hyper parameters tuning，it can take several hours to be **ACTIVE**."
   ]
  },
  {
   "cell_type": "code",
   "execution_count": null,
   "metadata": {
    "scrolled": true
   },
   "outputs": [
    {
     "name": "stdout",
     "output_type": "stream",
     "text": [
      "CREATE_PENDING ..\n",
      "CREATE_IN_PROGRESS ...................................................................................................................................................................................................................................................................................................................................."
     ]
    }
   ],
   "source": [
    "# status = util.wait(lambda: forecast.describe_predictor(PredictorArn=predictor_arn))\n",
    "status = util.wait(lambda: forecast.describe_auto_predictor(PredictorArn=predictor_arn))\n",
    "assert status"
   ]
  },
  {
   "cell_type": "code",
   "execution_count": null,
   "metadata": {},
   "outputs": [],
   "source": [
    "# forecast.describe_predictor(PredictorArn=predictor_arn)\n",
    "forecast.describe_auto_predictor(PredictorArn=predictor_arn)"
   ]
  },
  {
   "cell_type": "code",
   "execution_count": null,
   "metadata": {},
   "outputs": [],
   "source": [
    "%store predictor_arn\n",
    "%store bucket_name\n",
    "%store region "
   ]
  },
  {
   "cell_type": "markdown",
   "metadata": {},
   "source": [
    "## Step 3. Get Predictor Error Metrics from Backtesting <a class=\"anchor\" id=\"predictorErrors\"></a>\n",
    "\n",
    "After creating the predictors, we can query the forecast accuracy given by the backtest scenario and have a quantitative understanding of the performance of the algorithm. Such a process is iterative in nature during model development. When an algorithm with satisfying performance is found, the customer can deploy the predictor into a production environment, and query the forecasts for a particular item to make business decisions. The figure below shows a sample plot of different quantile forecasts of a predictor."
   ]
  },
  {
   "cell_type": "code",
   "execution_count": null,
   "metadata": {},
   "outputs": [],
   "source": [
    "error_metrics = forecast.get_accuracy_metrics(PredictorArn=predictor_arn)\n",
    "error_metrics"
   ]
  },
  {
   "cell_type": "markdown",
   "metadata": {},
   "source": [
    "## Step 4. Create a Forecast <a class=\"anchor\" id=\"createForecast\"></a>"
   ]
  },
  {
   "cell_type": "code",
   "execution_count": null,
   "metadata": {},
   "outputs": [],
   "source": [
    "\n",
    "forecast_name = predictor_arn.split('/')[-1]+\"_forecast\""
   ]
  },
  {
   "cell_type": "code",
   "execution_count": null,
   "metadata": {},
   "outputs": [],
   "source": [
    "forecast_name"
   ]
  },
  {
   "cell_type": "code",
   "execution_count": null,
   "metadata": {},
   "outputs": [],
   "source": [
    "\n",
    "\n",
    "create_forecast_response = \\\n",
    "    forecast.create_forecast(ForecastName=forecast_name[0:63],\n",
    "                             PredictorArn=predictor_arn)\n",
    "\n",
    "forecast_arn = create_forecast_response['ForecastArn']"
   ]
  },
  {
   "cell_type": "markdown",
   "metadata": {},
   "source": [
    "Check the status of the forecast process, when the status change from **CREATE_IN_PROGRESS** to **ACTIVE**, we can continue to next steps. Depending on data size, model selection and choice of hyper parameters tuning，it can take several hours to be **ACTIVE**."
   ]
  },
  {
   "cell_type": "code",
   "execution_count": null,
   "metadata": {},
   "outputs": [],
   "source": [
    "status = util.wait(lambda: forecast.describe_forecast(ForecastArn=forecast_arn))\n",
    "assert status"
   ]
  },
  {
   "cell_type": "code",
   "execution_count": null,
   "metadata": {
    "scrolled": true
   },
   "outputs": [],
   "source": [
    "forecast.describe_forecast(ForecastArn=forecast_arn)"
   ]
  },
  {
   "cell_type": "code",
   "execution_count": null,
   "metadata": {},
   "outputs": [],
   "source": [
    "forecast_arn"
   ]
  },
  {
   "cell_type": "markdown",
   "metadata": {},
   "source": [
    "## Step 5:  Query the Forecast <a class=\"anchor\" id=\"queryForecast\"></a>"
   ]
  },
  {
   "cell_type": "markdown",
   "metadata": {},
   "source": [
    "Once created, the forecast results are ready and you view them. "
   ]
  },
  {
   "cell_type": "code",
   "execution_count": null,
   "metadata": {},
   "outputs": [],
   "source": [
    "item_id = 'TWS0926300'"
   ]
  },
  {
   "cell_type": "code",
   "execution_count": null,
   "metadata": {},
   "outputs": [],
   "source": [
    "forecast_response_deep = forecastquery.query_forecast(\n",
    "    ForecastArn=forecast_arn,\n",
    "    Filters={\"item_id\": item_id})\n",
    "\n",
    "forecast_response_deep"
   ]
  },
  {
   "cell_type": "code",
   "execution_count": null,
   "metadata": {},
   "outputs": [],
   "source": [
    "%store forecast_arn\n",
    "%store predictor_arn"
   ]
  },
  {
   "cell_type": "markdown",
   "metadata": {},
   "source": [
    "## Next Steps<a class=\"anchor\" id=\"nextSteps\"></a>\n",
    "\n",
    "Congratulations!! You've trained your first Amazon Forecast model and generated your first forecast!!\n",
    "\n",
    "To dive deeper, here are a couple options for further evaluation:\n",
    "<ul>\n",
    "    <li><b>To see an example of single item evaluation in a notebook</b>, see  `3.Evaluating_Your_Predictor.ipynb`.</li>\n",
    "    <li><b>For an example how to use a notebook and Predictor Backtest Forecasts to evaluate all items at once using custom metrics</b>, see `../advanced/Item_Level_Accuracy/Item_Level_Accuracy_Using_Bike_Example.ipynb`. </li>\n",
    "    <li><b>Finally, for a production-level example, how to use Amazon QuickSight to visualize either Predictor Backtest Forecasts and/or Forecasts so you can share and socialize the results with others</b>, <a href=\"https://aws.amazon.com/solutions/implementations/improving-forecast-accuracy-with-machine-learning/?did=sl_card&trk=sl_card\" target=\"_blank\">see our automation solution Improving Forecast Accuracy</a></li>\n",
    "        <li><a href=\"https://console.aws.amazon.com/cloudformation/home?region=us-east-1#/stacks/new?stackName=forecast-stack&t[…]acy-with-machine-learning-demo.template\" target=\"_blank\">Quick launch link for above automation</a></li>\n",
    "    </ul>\n",
    "    \n",
    "For other advanced topics, see the `advanced` section of our notebooks.  Several you may want to check out next:\n",
    "<ul>\n",
    "    <li>Example how to use Related Data: <a href=\"https://github.com/aws-samples/amazon-forecast-samples/blob/master/notebooks/advanced/Incorporating_Related_Time_Series_dataset_to_your_Predictor/Incorporating_Related_Time_Series_dataset_to_your_Predictor.ipynb\" target=\"_blank\">Incorporating Related Time Series</a></li>\n",
    "    <li>Example how to use our built-in, hosted-by-AWS weather data: <a href=\"https://github.com/aws-samples/amazon-forecast-samples/blob/master/notebooks/advanced/Weather_index/1.%20Training%20your%20model%20with%20Weather%20Index.ipynb\" target=\"_blank\">Training your model with Weather Index </a></li>\n",
    "    </ul>"
   ]
  },
  {
   "cell_type": "code",
   "execution_count": null,
   "metadata": {},
   "outputs": [],
   "source": []
  }
 ],
 "metadata": {
  "kernelspec": {
   "display_name": "conda_python3",
   "language": "python",
   "name": "conda_python3"
  },
  "language_info": {
   "codemirror_mode": {
    "name": "ipython",
    "version": 3
   },
   "file_extension": ".py",
   "mimetype": "text/x-python",
   "name": "python",
   "nbconvert_exporter": "python",
   "pygments_lexer": "ipython3",
   "version": "3.6.13"
  }
 },
 "nbformat": 4,
 "nbformat_minor": 4
}
