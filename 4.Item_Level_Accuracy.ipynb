{
 "cells": [
  {
   "cell_type": "markdown",
   "metadata": {},
   "source": [
    "## Compute forecast metrics using item-level backtests"
   ]
  },
  {
   "cell_type": "markdown",
   "metadata": {},
   "source": [
    "<b>DC Bikeshare Rentals data</b>\n",
    "\n",
    "Our goal is to predict the number of DC Bikeshare rentals in the next 24 hours for each of 467 rental locations.  To do this, we used Amazon Forecast to create forecasts with 1 hour frequency and 1 week forecast horizon.   \n",
    "<ul>\n",
    "    <li>See <a href=\"https://aws.amazon.com/blogs/machine-learning/measuring-forecast-model-accuracy-to-optimize-your-business-objectives-with-amazon-forecast/\">blog post for screens how the forecast was created.</a></li>\n",
    "    <li>Original data source: <a href=\"https://www.capitalbikeshare.com/system-data\"> https://www.capitalbikeshare.com/system-data</a> </li>\n",
    "</ul>\n",
    "\n",
    "This notebook picks up after the blog post Predictor has been trained.  In the overall Amazon Forecast workflow, <b>this notebook covers <i>the step \"Inspect ML model\" which comes between steps Train ML model and Host ML model</i>, see overview image below.</b>  For demo purposes, we will visualize the item-level accuracies and calculate a custom item-level MAPE error metric, since customers often ask for custom metrics separate from standard weighted quantile loss (wQL).\n",
    "<br>\n",
    "\n",
    "Amazon Forecast Notebooks are useful to see the overall Forecast API workflow, see for example:<br>\n",
    "<li><a href=\"https://github.com/aws-samples/amazon-forecast-samples/blob/master/notebooks/advanced/Incorporating_Related_Time_Series_dataset_to_your_Predictor/Incorporating_Related_Time_Series_dataset_to_your_Predictor.ipynb\", target=\"_blank\">Creating Related Time Series notebook for a good overview of the non-Weather Forecast API steps.</a></li>\n",
    "\n",
    "Once you've run through a notebook once or twice, you'll probably decide you don't want to call Forecast APIs anymore via notebook!  More efficient use of your time is to call APIs from automation.  When you're ready, take a look at our Solution that uses AWS Lambda Step Functions and Amazon Quicksight for visualization to integrate Amazon Forecast with upstream/downstream Data applications.\n",
    "<ul>\n",
    "    <li><a href=\"https://aws.amazon.com/solutions/implementations/improving-forecast-accuracy-with-machine-learning\", target='_blank'>Amazon Forecast Automation Solution</a></li>\n",
    "    </ul>\n",
    "\n"
   ]
  },
  {
   "cell_type": "markdown",
   "metadata": {},
   "source": [
    "<img src=\"images/forecast_steps_overview.png\" width=\"98%\">\n",
    "\n",
    "<br>\n",
    "\n",
    "\n",
    "# Table of Contents for task \"inspect ML model\"\n",
    "* Step 0: [Set up and install libraries](#setup)\n",
    "* Step 1: [Export predictor backtests](#export)\n",
    "* Step 2: [Assemble and read predictor backtest files](#read)\n",
    "* Step 3: [Visualize backtest window accuracy](#visualize)\n",
    "* Step 4: [Calculate custom MAPE](#mape)\n"
   ]
  },
  {
   "cell_type": "markdown",
   "metadata": {},
   "source": [
    "# Step 0:  Set up  <a class=\"anchor\" id=\"setup\"></a>\n",
    "Import and install Python and aws libraries\n"
   ]
  },
  {
   "cell_type": "code",
   "execution_count": 1,
   "metadata": {},
   "outputs": [
    {
     "name": "stdout",
     "output_type": "stream",
     "text": [
      "pandas: 1.1.5\n",
      "numpy: 1.19.5\n"
     ]
    }
   ],
   "source": [
    "import sys\n",
    "import os\n",
    "import shutil\n",
    "\n",
    "import pandas as pd\n",
    "print('pandas: {}'.format(pd.__version__))\n",
    "# display all columns wide\n",
    "pd.set_option('display.max_columns', None)\n",
    "# display all rows long\n",
    "pd.set_option('display.max_rows', None)\n",
    "# display horizontal scrollbar for wide columns\n",
    "pd.set_option('display.width', 5000)\n",
    "pd.set_option('display.max_colwidth', 5000)\n",
    "#turn off scientific notation\n",
    "pd.set_option('display.float_format', lambda x: '%.5f' % x)\n",
    "\n",
    "import numpy as np\n",
    "print('numpy: {}'.format(np.__version__))\n",
    "import matplotlib.pyplot as plt\n",
    "%matplotlib inline \n",
    "\n",
    "\n",
    "# get region from boto3\n",
    "import boto3\n",
    "REGION = boto3.Session().region_name\n",
    "\n",
    "# importing forecast notebook utility from notebooks/common directory\n",
    "sys.path.insert( 0, os.path.abspath(\"./common\") )\n",
    "import util"
   ]
  },
  {
   "cell_type": "code",
   "execution_count": 2,
   "metadata": {},
   "outputs": [],
   "source": [
    "#########\n",
    "# Function to concat .part files in predictor backtest file export folder\n",
    "#########\n",
    "\n",
    "def read_backtest_predictions(BUCKET_NAME, s3_path, local_write_path=\"backtest_exports\", backtest_date=None):\n",
    "    \"\"\"Read predictor backtest predictions export files\n",
    "       Inputs: \n",
    "           BUCKET_NAME = S3 bucket name\n",
    "           s3_path = S3 path to Predictor.part files\n",
    "                         , everything after \"s3://BUCKET_NAME/\" in S3 URI path to your .part files\n",
    "       Return: Pandas dataframe with all .part files concatenated row-wise\n",
    "    \"\"\"\n",
    "    # set s3 path\n",
    "    s3 = boto3.resource('s3')\n",
    "    s3_bucket = boto3.resource('s3').Bucket(BUCKET_NAME)\n",
    "    s3_depth = s3_path.split(\"/\")\n",
    "    s3_depth = len(s3_depth) - 1\n",
    "    \n",
    "    # set local path\n",
    "#     local_write_path = \"backtest_exports\"\n",
    "    if (os.path.exists(local_write_path) and os.path.isdir(local_write_path)):\n",
    "        shutil.rmtree(local_write_path)\n",
    "    if not(os.path.exists(local_write_path) and os.path.isdir(local_write_path)):\n",
    "        os.makedirs(local_write_path)\n",
    "    \n",
    "    # concat part files\n",
    "    part_filename = \"\"\n",
    "    part_files = list(s3_bucket.objects.filter(Prefix=s3_path))\n",
    "    print(f\"Number .part files found: {len(part_files)}\")\n",
    "    for file in part_files:\n",
    "        # There will be a collection of CSVs if the forecast is large, modify this to go get them all\n",
    "        if \"csv\" in file.key:\n",
    "            part_filename = file.key.split('/')[s3_depth]\n",
    "            window_object = s3.Object(BUCKET_NAME, file.key)\n",
    "            file_size = window_object.content_length\n",
    "            if file_size > 0:\n",
    "                s3.Bucket(BUCKET_NAME).download_file(file.key, local_write_path+\"/\"+part_filename)\n",
    "        \n",
    "    # Read from local dir and combine all the part files\n",
    "    temp_dfs = []\n",
    "    for entry in os.listdir(local_write_path):\n",
    "        if os.path.isfile(os.path.join(local_write_path, entry)):\n",
    "            df = pd.read_csv(os.path.join(local_write_path, entry), index_col=None, header=0)\n",
    "            temp_dfs.append(df)\n",
    "\n",
    "    # Return assembled .part files as pandas Dataframe\n",
    "    fcst_df = pd.concat(temp_dfs, axis=0, ignore_index=True, sort=False)\n",
    "    from datetime import datetime\n",
    "    if backtest_date:\n",
    "        fcst_df = fcst_df[fcst_df['backtestwindow_start_time']==backtest_date+\"T00:00:00\"]\n",
    "    \n",
    "    return fcst_df\n",
    "\n",
    "\n",
    "\n",
    "\n",
    "\n",
    "###########\n",
    "# Functions to calculate metrics\n",
    "###########\n",
    "\n",
    "def truncate_negatives_to_zero(the_df, target_value_col, quantile_cols):\n",
    "    \"\"\"In case you are expecting positive numbers for actuals and predictions,\n",
    "       round negative values up to zero.\n",
    "       \n",
    "       Be careful that this is acceptable treatment of negatives for your use case.\n",
    "    \"\"\"\n",
    "    \n",
    "    df = the_df.copy()\n",
    "    \n",
    "    for q in quantile_cols:\n",
    "        num_neg_predictions = df[q].lt(0).sum()\n",
    "        print(f\"Num negative {q} predictors: {num_neg_predictions}\")\n",
    "\n",
    "        # replace\n",
    "        df[q] = df[q].mask(df[q] < 0, 0)\n",
    "\n",
    "        # check you did the right thing\n",
    "        num_neg_predictions = df[q].lt(0).sum()\n",
    "        print(f\"Num negative {q} predictors: {num_neg_predictions}\")\n",
    "\n",
    "    # truncate negative actuals\n",
    "    num_neg_actuals = df[target_value_col].lt(0).sum()\n",
    "    print(f\"Num negative actuals: {num_neg_actuals}\")\n",
    "\n",
    "    # replace\n",
    "    df[target_value_col] = df[target_value_col].mask(df[target_value_col] < 0, 0)\n",
    "\n",
    "    # check you did the right thing\n",
    "    num_neg_actuals = df[target_value_col].lt(0).sum()\n",
    "    print(f\"Num negative actuals: {num_neg_actuals}\")\n",
    "    \n",
    "    return df\n",
    "\n",
    "       \n",
    "def calc_mape(target, forecast):\n",
    "    \"\"\"Calculates custom mape for a specific quantile and window with formula:\n",
    "            sum(| |predicted| - |actual| | / |actual|)\n",
    "       Input: single numbers for target and forecast\n",
    "       Output: mape = floating point number\n",
    "    \"\"\"\n",
    "    denominator = np.abs(target)\n",
    "    flag = denominator <= 1e-8\n",
    "\n",
    "    mape = np.mean(\n",
    "        (np.abs( np.abs(target) - np.abs(forecast)) * (1.0 - flag)) / (denominator + flag)\n",
    "    )\n",
    "    return mape\n",
    "\n"
   ]
  },
  {
   "cell_type": "markdown",
   "metadata": {},
   "source": [
    "In order to run Amazon Forecast, you'll need an AWS account.  \n",
    "<b>Make sure you can log in to: https://console.aws.amazon.com/.  </b>  Then read each cell carefully and execute the cells in this notebook.\n",
    "<br>"
   ]
  },
  {
   "cell_type": "markdown",
   "metadata": {},
   "source": [
    "<b>Configure the S3 bucket name and region name for this lesson.</b>\n",
    "\n",
    "- If you don't have an S3 bucket, create it first on S3.\n",
    "- Although we have set the region to us-west-2 as a default value below, you can choose any of the regions that the service is available in."
   ]
  },
  {
   "cell_type": "code",
   "execution_count": 3,
   "metadata": {},
   "outputs": [],
   "source": [
    "bucket_name='sagemaker-us-west-2-230755935769'\n",
    "predictor_arn='arn:aws:forecast:us-west-2:230755935769:predictor/m56_sku_prediction_8w_1_01FWTV1MQMTY63C5R7D0ZCM9FD'\n",
    "region='us-west-2'\n",
    "role_arn='arn:aws:iam::230755935769:role/ForecastNotebookRole'"
   ]
  },
  {
   "cell_type": "code",
   "execution_count": 4,
   "metadata": {},
   "outputs": [],
   "source": [
    "%store -r bucket_name \n",
    "%store -r predictor_arn\n",
    "# predictor_arn_deep_ar = \"arn:aws:forecast:us-west-2:230755935769:predictor/loreal_sku_prediction_normal_4_CNNQR_RMSE_autopredictor_01FS208K3A8MEQSNDKCNVPMJAK\"\n",
    "%store -r region \n",
    "%store -r role_arn "
   ]
  },
  {
   "cell_type": "code",
   "execution_count": 5,
   "metadata": {},
   "outputs": [],
   "source": [
    "## Get user inputs for S3 bucket name and region\n",
    "\n",
    "default_bucket = bucket_name\n",
    "default_region = REGION"
   ]
  },
  {
   "cell_type": "markdown",
   "metadata": {},
   "source": [
    "The next part of the setup process is to validate that your account can communicate with Amazon Forecast"
   ]
  },
  {
   "cell_type": "code",
   "execution_count": 6,
   "metadata": {},
   "outputs": [],
   "source": [
    "# Connect API session\n",
    "session = boto3.Session(region_name=REGION) \n",
    "forecast = session.client(service_name='forecast') \n"
   ]
  },
  {
   "cell_type": "markdown",
   "metadata": {},
   "source": [
    "The last part of the setup process is to create an AWS Role with Forecast and S3 permissions"
   ]
  },
  {
   "cell_type": "code",
   "execution_count": 7,
   "metadata": {},
   "outputs": [
    {
     "name": "stdout",
     "output_type": "stream",
     "text": [
      "Creating Role ForecastNotebookRole ...\n",
      "The role ForecastNotebookRole exists, ignore to create it\n",
      "Done.\n"
     ]
    }
   ],
   "source": [
    "# Create the role to provide to Amazon Forecast.\n",
    "\n",
    "role_name = \"ForecastNotebookRole\"\n",
    "print(f\"Creating Role {role_name} ...\")\n",
    "role_arn = util.get_or_create_iam_role( role_name = role_name )\n"
   ]
  },
  {
   "cell_type": "code",
   "execution_count": 8,
   "metadata": {},
   "outputs": [
    {
     "data": {
      "text/plain": [
       "{'Predictors': [{'PredictorArn': 'arn:aws:forecast:us-west-2:080438298673:predictor/m5_sku_prediction_2m_4_01FX2ZBY5C9ERGA15PMEP0A2BT',\n",
       "   'PredictorName': 'm5_sku_prediction_2m_4',\n",
       "   'DatasetGroupArn': 'arn:aws:forecast:us-west-2:080438298673:dataset-group/m5_sku_prediction_2m_4',\n",
       "   'IsAutoPredictor': True,\n",
       "   'Status': 'ACTIVE',\n",
       "   'CreationTime': datetime.datetime(2022, 3, 1, 14, 50, 22, 267000, tzinfo=tzlocal()),\n",
       "   'LastModificationTime': datetime.datetime(2022, 3, 1, 16, 49, 38, 730000, tzinfo=tzlocal())}],\n",
       " 'ResponseMetadata': {'RequestId': '72d7f7c8-342a-4e40-a691-c05122ba4622',\n",
       "  'HTTPStatusCode': 200,\n",
       "  'HTTPHeaders': {'content-type': 'application/x-amz-json-1.1',\n",
       "   'date': 'Tue, 01 Mar 2022 23:35:12 GMT',\n",
       "   'x-amzn-requestid': '72d7f7c8-342a-4e40-a691-c05122ba4622',\n",
       "   'content-length': '385',\n",
       "   'connection': 'keep-alive'},\n",
       "  'RetryAttempts': 0}}"
      ]
     },
     "execution_count": 8,
     "metadata": {},
     "output_type": "execute_result"
    }
   ],
   "source": [
    "# check you did the right thing\n",
    "forecast.list_predictors()"
   ]
  },
  {
   "cell_type": "markdown",
   "metadata": {},
   "source": [
    "# Step 1: Export predictor backtests <a class=\"anchor\" id=\"export\"></a>\n",
    "\n",
    "After creating the predictors, we can export the Backtest Predictions to evaluate the performance of the algorithm, using custom item-level metrics if desired. \"Backtesting\" is a cross-validation technique for time series that uses multiple train/test splits that keep time order of the data. Using multiple train-test splits (i.e. more than 1 backtest window) will result in more models being trained, and in turn, a more robust estimate how the model (chosen algorithm and hyperameters) will perform on unseen data. \n",
    "\n",
    "<img src=\"images/backtest.png\" width=\"80%\" ></img>\n",
    "\n",
    "<li><a href=\"https://docs.aws.amazon.com/forecast/latest/dg/metrics.html#backtesting\", target='_blank'> More details about backtesting on the Amazon Forecast documentation page.</a></li>\n",
    "\n",
    "In the next cell, we use your Predictor arn and export backtest files to your S3 bucket.  <b>To find your predictor ARN, navigate in the Amazon Forecast UI to your Predictor page. </b>\n",
    "<img src=\"images/predictorARN.png\" width=\"70%\" ></img>\n",
    "<br>"
   ]
  },
  {
   "cell_type": "code",
   "execution_count": 9,
   "metadata": {},
   "outputs": [
    {
     "data": {
      "text/plain": [
       "'m5_sku_prediction_2m_4_01FX2ZBY5C9ERGA15PMEP0A2BT'"
      ]
     },
     "execution_count": 9,
     "metadata": {},
     "output_type": "execute_result"
    }
   ],
   "source": [
    "export_name = predictor_arn.split('/')[-1]\n",
    "export_name"
   ]
  },
  {
   "cell_type": "code",
   "execution_count": 10,
   "metadata": {},
   "outputs": [
    {
     "name": "stdout",
     "output_type": "stream",
     "text": [
      "exporting to: s3://sagemaker-us-west-2-080438298673/backtest_exports/m5_sku_prediction_2m_4_01FX2ZBY5C9ERGA15PMEP0A2BT/\n"
     ]
    }
   ],
   "source": [
    "# Decide automatically where to save exported files\n",
    "\n",
    "\n",
    "default_export_path = \\\n",
    "    f's3://{default_bucket}/backtest_exports/{export_name}/'\n",
    "print(f\"exporting to: {default_export_path}\")\n",
    "export_path = default_export_path"
   ]
  },
  {
   "cell_type": "markdown",
   "metadata": {},
   "source": [
    "<br>\n",
    "In the next few cells, we ask Amazon Forecast to export the Predictor backtest window forecasts via API.  The same could be done by <li><a href=\"https://aws.amazon.com/blogs/machine-learning/measuring-forecast-model-accuracy-to-optimize-your-business-objectives-with-amazon-forecast/\">clicking the \"Export backtest results\" button on the Predictor page, as shown in the blog.</a></li>\n",
    "<br>\n",
    "<br>"
   ]
  },
  {
   "cell_type": "code",
   "execution_count": 11,
   "metadata": {},
   "outputs": [],
   "source": [
    "\n",
    "## Call CreatePredictorBacktestExportJob using predictor Arn and S3 export path\n",
    "\n",
    "backtestExportJobName = f'{export_name[0:59]}_job'\n",
    "backtest_export_job_response =forecast.create_predictor_backtest_export_job(PredictorBacktestExportJobName=backtestExportJobName,\n",
    "                                                          PredictorArn=predictor_arn,\n",
    "                                                          Destination= {\n",
    "                                                              \"S3Config\" : {\n",
    "                                                                 \"Path\":export_path,\n",
    "                                                                 \"RoleArn\": role_arn\n",
    "                                                              } \n",
    "                                                          })"
   ]
  },
  {
   "cell_type": "code",
   "execution_count": 12,
   "metadata": {},
   "outputs": [
    {
     "data": {
      "text/plain": [
       "{'PredictorBacktestExportJobArn': 'arn:aws:forecast:us-west-2:080438298673:predictor-backtest-export-job/m5_sku_prediction_2m_4/m5_sku_prediction_2m_4_01FX2ZBY5C9ERGA15PMEP0A2BT_job',\n",
       " 'ResponseMetadata': {'RequestId': '7067988c-fe5c-461e-ae8d-655b79938448',\n",
       "  'HTTPStatusCode': 200,\n",
       "  'HTTPHeaders': {'content-type': 'application/x-amz-json-1.1',\n",
       "   'date': 'Tue, 01 Mar 2022 23:35:11 GMT',\n",
       "   'x-amzn-requestid': '7067988c-fe5c-461e-ae8d-655b79938448',\n",
       "   'content-length': '182',\n",
       "   'connection': 'keep-alive'},\n",
       "  'RetryAttempts': 0}}"
      ]
     },
     "execution_count": 12,
     "metadata": {},
     "output_type": "execute_result"
    }
   ],
   "source": [
    "\n",
    "# check for HTTPStatusCode 200\n",
    "backtest_export_job_arn = backtest_export_job_response['PredictorBacktestExportJobArn']\n",
    "backtest_export_job_response"
   ]
  },
  {
   "cell_type": "code",
   "execution_count": 13,
   "metadata": {},
   "outputs": [
    {
     "name": "stdout",
     "output_type": "stream",
     "text": [
      "CREATE_PENDING .\n",
      "CREATE_IN_PROGRESS .....................................................\n",
      "ACTIVE \n"
     ]
    }
   ],
   "source": [
    "\n",
    "## CHECK STATUS OF YOUR EXPORT JOB - BACKTEST FORECASTS\n",
    "\n",
    "\n",
    "status = util.wait(lambda: forecast.describe_predictor_backtest_export_job(PredictorBacktestExportJobArn=\n",
    "                backtest_export_job_arn))\n",
    "\n",
    "# Wait until you see \"ACTIVE\" below...\n",
    "# This will take a while, go get a cup of tea now. "
   ]
  },
  {
   "cell_type": "markdown",
   "metadata": {},
   "source": [
    "<br>\n",
    "The API steps you did above, could equivalently be done in the UI by clicking the \"Export backtest results\" button on the Predictor page.  You'll see export job details on the screen.\n",
    "\n",
    "<img src=\"images/export_backtest_results.png\" width=\"80%\" ></img>"
   ]
  },
  {
   "cell_type": "markdown",
   "metadata": {},
   "source": [
    "# Step 2: Assemble and read predictor backtest files <a class=\"anchor\" id=\"read\"></a>\n",
    "\n",
    "After Forecast Predictor Backtest Export step finishes, you will have a number of .part files within 2 separate folders.  The cell below concatenates all the .part files per folder into a single .csv file which can be saved to an S3 location of your choice. <br>\n",
    "\n",
    "The folder structure for \"Item-level standard accuracy metrics\" and \"Item-level forecasted values\" folders will look like this on your S3 bucket:\n",
    "\n",
    "<img src=\"images/export_backtest_folders.png\" width=\"40%\" ></img>\n",
    "<br>"
   ]
  },
  {
   "cell_type": "markdown",
   "metadata": {},
   "source": [
    "### Assemble and read Accuracy metrics file"
   ]
  },
  {
   "cell_type": "code",
   "execution_count": 14,
   "metadata": {},
   "outputs": [
    {
     "name": "stdout",
     "output_type": "stream",
     "text": [
      "path to files: backtest_exports/m5_sku_prediction_2m_4_01FX2ZBY5C9ERGA15PMEP0A2BT/accuracy-metrics-values/\n"
     ]
    }
   ],
   "source": [
    "# path to files is everything after BUCKET_NAME/, it should end in \"/\"\n",
    "# s3_path_to_files = \"s3://sagemaker-us-west-2-230755935769/backtest_exports/m56_sku_prediction_8w_1_01FWTV1MQMTY63C5R7D0ZCM9FD\"\n",
    "s3_path_to_files = export_path.split(default_bucket)[1][1:]\n",
    "s3_path_to_files = s3_path_to_files + \"accuracy-metrics-values/\"\n",
    "\n",
    "print(f\"path to files: {s3_path_to_files}\")"
   ]
  },
  {
   "cell_type": "code",
   "execution_count": 15,
   "metadata": {},
   "outputs": [
    {
     "name": "stdout",
     "output_type": "stream",
     "text": [
      "Number .part files found: 26\n"
     ]
    }
   ],
   "source": [
    "\n",
    "## READ THE ACCURACIES FILE\n",
    "\n",
    "\n",
    "accuracy_outcomes = [f'backtest_exports/{export_name}/accuracy-metrics-values/']\n",
    "algo_names = [export_name]\n",
    "accuracy_dfs = []\n",
    "\n",
    "\n",
    "\n",
    "def postprocess(accuracy_df):\n",
    "    accuracy_df = accuracy_df.loc[(accuracy_df.backtestwindow_start_time != \"backtestwindow_start_time\"), :].copy()\n",
    "    \n",
    "    accuracy_df.item_id = accuracy_df.item_id.astype(str)\n",
    "    \n",
    "    accuracy_df['backtestwindow_start_time'] = pd.to_datetime(accuracy_df['backtestwindow_start_time']\n",
    "                                                 , format=\"%Y-%m-%dT%H:%M:%S\", errors='coerce')\n",
    "    accuracy_df['backtestwindow_end_time'] = pd.to_datetime(accuracy_df['backtestwindow_end_time']\n",
    "                                                 , format=\"%Y-%m-%dT%H:%M:%S\", errors='coerce')\n",
    "    # convert UTC timestamp to timezone unaware\n",
    "    accuracy_df['backtestwindow_start_time'] = accuracy_df.backtestwindow_start_time.dt.tz_localize(None)\n",
    "    accuracy_df['backtestwindow_end_time'] = accuracy_df.backtestwindow_end_time.dt.tz_localize(None)\n",
    "    for q in accuracy_df.iloc[:, -4:].columns:\n",
    "        accuracy_df[q] = pd.to_numeric(accuracy_df[q], errors='coerce')\n",
    "\n",
    "    return accuracy_df\n",
    "\n",
    "backtest_offset=None\n",
    "\n",
    "for i in range(0, len(accuracy_outcomes)):\n",
    "    accuracy_df = read_backtest_predictions(default_bucket, accuracy_outcomes[i], algo_names[i], backtest_offset)\n",
    "    accuracy_df =  postprocess(accuracy_df)\n",
    "    accuracy_df = accuracy_df[['item_id', 'store_id','state_id', \"backtestwindow_start_time\", \"RMSE\", \"MAPE\"]]\n",
    "    accuracy_df.drop_duplicates(inplace=True)\n",
    "    accuracy_df = accuracy_df.rename(columns={'RMSE':algo_names[i]+\"_RMSE\"})\n",
    "    accuracy_df = accuracy_df.rename(columns={'MAPE':algo_names[i]+\"_MAPE\"})\n",
    "    accuracy_dfs.append(accuracy_df)\n",
    "\n",
    "\n",
    "result = accuracy_dfs[0]    \n",
    "\n",
    "for i in range(1, len(accuracy_dfs)):\n",
    "    result = result.merge(accuracy_dfs[i], on=['item_id','store_id','state_id',\"backtestwindow_start_time\", \"backtestwindow_end_time\"])\n",
    "    \n"
   ]
  },
  {
   "cell_type": "code",
   "execution_count": 16,
   "metadata": {
    "scrolled": false
   },
   "outputs": [
    {
     "data": {
      "text/html": [
       "<div>\n",
       "<style scoped>\n",
       "    .dataframe tbody tr th:only-of-type {\n",
       "        vertical-align: middle;\n",
       "    }\n",
       "\n",
       "    .dataframe tbody tr th {\n",
       "        vertical-align: top;\n",
       "    }\n",
       "\n",
       "    .dataframe thead th {\n",
       "        text-align: right;\n",
       "    }\n",
       "</style>\n",
       "<table border=\"1\" class=\"dataframe\">\n",
       "  <thead>\n",
       "    <tr style=\"text-align: right;\">\n",
       "      <th></th>\n",
       "      <th>item_id</th>\n",
       "      <th>store_id</th>\n",
       "      <th>state_id</th>\n",
       "      <th>backtestwindow_start_time</th>\n",
       "      <th>m5_sku_prediction_2m_4_01FX2ZBY5C9ERGA15PMEP0A2BT_RMSE</th>\n",
       "      <th>m5_sku_prediction_2m_4_01FX2ZBY5C9ERGA15PMEP0A2BT_MAPE</th>\n",
       "    </tr>\n",
       "  </thead>\n",
       "  <tbody>\n",
       "    <tr>\n",
       "      <th>47</th>\n",
       "      <td>FOODS_1_218</td>\n",
       "      <td>WI_3</td>\n",
       "      <td>WI</td>\n",
       "      <td>2016-03-06</td>\n",
       "      <td>37.85632</td>\n",
       "      <td>0.86021</td>\n",
       "    </tr>\n",
       "    <tr>\n",
       "      <th>5662</th>\n",
       "      <td>FOODS_1_200</td>\n",
       "      <td>TX_2</td>\n",
       "      <td>TX</td>\n",
       "      <td>2016-03-06</td>\n",
       "      <td>37.37305</td>\n",
       "      <td>0.19927</td>\n",
       "    </tr>\n",
       "    <tr>\n",
       "      <th>916</th>\n",
       "      <td>FOODS_1_096</td>\n",
       "      <td>WI_3</td>\n",
       "      <td>WI</td>\n",
       "      <td>2016-03-06</td>\n",
       "      <td>36.69277</td>\n",
       "      <td>0.20166</td>\n",
       "    </tr>\n",
       "    <tr>\n",
       "      <th>4</th>\n",
       "      <td>FOODS_1_200</td>\n",
       "      <td>CA_1</td>\n",
       "      <td>CA</td>\n",
       "      <td>2016-03-06</td>\n",
       "      <td>36.28369</td>\n",
       "      <td>0.34901</td>\n",
       "    </tr>\n",
       "    <tr>\n",
       "      <th>5115</th>\n",
       "      <td>FOODS_2_021</td>\n",
       "      <td>CA_3</td>\n",
       "      <td>CA</td>\n",
       "      <td>2016-03-06</td>\n",
       "      <td>35.59457</td>\n",
       "      <td>0.86066</td>\n",
       "    </tr>\n",
       "    <tr>\n",
       "      <th>3950</th>\n",
       "      <td>FOODS_1_085</td>\n",
       "      <td>WI_1</td>\n",
       "      <td>WI</td>\n",
       "      <td>2016-03-06</td>\n",
       "      <td>35.14150</td>\n",
       "      <td>0.30841</td>\n",
       "    </tr>\n",
       "    <tr>\n",
       "      <th>1704</th>\n",
       "      <td>FOODS_1_218</td>\n",
       "      <td>CA_3</td>\n",
       "      <td>CA</td>\n",
       "      <td>2016-03-06</td>\n",
       "      <td>34.86984</td>\n",
       "      <td>0.45152</td>\n",
       "    </tr>\n",
       "    <tr>\n",
       "      <th>3388</th>\n",
       "      <td>FOODS_2_021</td>\n",
       "      <td>CA_1</td>\n",
       "      <td>CA</td>\n",
       "      <td>2016-03-06</td>\n",
       "      <td>34.66412</td>\n",
       "      <td>0.89424</td>\n",
       "    </tr>\n",
       "    <tr>\n",
       "      <th>4616</th>\n",
       "      <td>FOODS_2_050</td>\n",
       "      <td>TX_2</td>\n",
       "      <td>TX</td>\n",
       "      <td>2016-03-06</td>\n",
       "      <td>34.06767</td>\n",
       "      <td>6.94448</td>\n",
       "    </tr>\n",
       "    <tr>\n",
       "      <th>578</th>\n",
       "      <td>FOODS_1_004</td>\n",
       "      <td>CA_1</td>\n",
       "      <td>CA</td>\n",
       "      <td>2016-03-06</td>\n",
       "      <td>33.88253</td>\n",
       "      <td>0.00000</td>\n",
       "    </tr>\n",
       "  </tbody>\n",
       "</table>\n",
       "</div>"
      ],
      "text/plain": [
       "          item_id store_id state_id backtestwindow_start_time  m5_sku_prediction_2m_4_01FX2ZBY5C9ERGA15PMEP0A2BT_RMSE  m5_sku_prediction_2m_4_01FX2ZBY5C9ERGA15PMEP0A2BT_MAPE\n",
       "47    FOODS_1_218     WI_3       WI                2016-03-06                                                37.85632                                                 0.86021\n",
       "5662  FOODS_1_200     TX_2       TX                2016-03-06                                                37.37305                                                 0.19927\n",
       "916   FOODS_1_096     WI_3       WI                2016-03-06                                                36.69277                                                 0.20166\n",
       "4     FOODS_1_200     CA_1       CA                2016-03-06                                                36.28369                                                 0.34901\n",
       "5115  FOODS_2_021     CA_3       CA                2016-03-06                                                35.59457                                                 0.86066\n",
       "3950  FOODS_1_085     WI_1       WI                2016-03-06                                                35.14150                                                 0.30841\n",
       "1704  FOODS_1_218     CA_3       CA                2016-03-06                                                34.86984                                                 0.45152\n",
       "3388  FOODS_2_021     CA_1       CA                2016-03-06                                                34.66412                                                 0.89424\n",
       "4616  FOODS_2_050     TX_2       TX                2016-03-06                                                34.06767                                                 6.94448\n",
       "578   FOODS_1_004     CA_1       CA                2016-03-06                                                33.88253                                                 0.00000"
      ]
     },
     "execution_count": 16,
     "metadata": {},
     "output_type": "execute_result"
    }
   ],
   "source": [
    "result.sort_values(by=[f'{export_name}_RMSE'], ascending=False).head(30).tail(10)"
   ]
  },
  {
   "cell_type": "code",
   "execution_count": 30,
   "metadata": {},
   "outputs": [
    {
     "data": {
      "text/html": [
       "<div>\n",
       "<style scoped>\n",
       "    .dataframe tbody tr th:only-of-type {\n",
       "        vertical-align: middle;\n",
       "    }\n",
       "\n",
       "    .dataframe tbody tr th {\n",
       "        vertical-align: top;\n",
       "    }\n",
       "\n",
       "    .dataframe thead th {\n",
       "        text-align: right;\n",
       "    }\n",
       "</style>\n",
       "<table border=\"1\" class=\"dataframe\">\n",
       "  <thead>\n",
       "    <tr style=\"text-align: right;\">\n",
       "      <th></th>\n",
       "      <th>item_id</th>\n",
       "      <th>store_id</th>\n",
       "    </tr>\n",
       "  </thead>\n",
       "  <tbody>\n",
       "    <tr>\n",
       "      <th>544</th>\n",
       "      <td>FOODS_2_013</td>\n",
       "      <td>WI_2</td>\n",
       "    </tr>\n",
       "    <tr>\n",
       "      <th>596</th>\n",
       "      <td>FOODS_2_021</td>\n",
       "      <td>WI_2</td>\n",
       "    </tr>\n",
       "    <tr>\n",
       "      <th>1735</th>\n",
       "      <td>FOODS_1_204</td>\n",
       "      <td>WI_2</td>\n",
       "    </tr>\n",
       "    <tr>\n",
       "      <th>606</th>\n",
       "      <td>FOODS_1_200</td>\n",
       "      <td>CA_3</td>\n",
       "    </tr>\n",
       "    <tr>\n",
       "      <th>3995</th>\n",
       "      <td>FOODS_1_204</td>\n",
       "      <td>WI_1</td>\n",
       "    </tr>\n",
       "    <tr>\n",
       "      <th>3590</th>\n",
       "      <td>FOODS_1_018</td>\n",
       "      <td>WI_2</td>\n",
       "    </tr>\n",
       "    <tr>\n",
       "      <th>2869</th>\n",
       "      <td>FOODS_1_113</td>\n",
       "      <td>WI_2</td>\n",
       "    </tr>\n",
       "    <tr>\n",
       "      <th>1739</th>\n",
       "      <td>FOODS_1_032</td>\n",
       "      <td>WI_1</td>\n",
       "    </tr>\n",
       "    <tr>\n",
       "      <th>5867</th>\n",
       "      <td>FOODS_2_021</td>\n",
       "      <td>WI_3</td>\n",
       "    </tr>\n",
       "    <tr>\n",
       "      <th>5847</th>\n",
       "      <td>FOODS_1_082</td>\n",
       "      <td>WI_2</td>\n",
       "    </tr>\n",
       "  </tbody>\n",
       "</table>\n",
       "</div>"
      ],
      "text/plain": [
       "          item_id store_id\n",
       "544   FOODS_2_013     WI_2\n",
       "596   FOODS_2_021     WI_2\n",
       "1735  FOODS_1_204     WI_2\n",
       "606   FOODS_1_200     CA_3\n",
       "3995  FOODS_1_204     WI_1\n",
       "3590  FOODS_1_018     WI_2\n",
       "2869  FOODS_1_113     WI_2\n",
       "1739  FOODS_1_032     WI_1\n",
       "5867  FOODS_2_021     WI_3\n",
       "5847  FOODS_1_082     WI_2"
      ]
     },
     "execution_count": 30,
     "metadata": {},
     "output_type": "execute_result"
    }
   ],
   "source": [
    "result.sort_values(by=[f'{export_name}_RMSE'], ascending=False).head(10)[['item_id','store_id']]"
   ]
  },
  {
   "cell_type": "code",
   "execution_count": 19,
   "metadata": {},
   "outputs": [
    {
     "name": "stdout",
     "output_type": "stream",
     "text": [
      "2016-04-24 2011-01-29\n"
     ]
    },
    {
     "data": {
      "text/plain": [
       "<AxesSubplot:xlabel='timestamp'>"
      ]
     },
     "execution_count": 19,
     "metadata": {},
     "output_type": "execute_result"
    },
    {
     "data": {
      "image/png": "[encoded data removed]",
      "text/plain": [
       "<Figure size 4320x360 with 1 Axes>"
      ]
     },
     "metadata": {
      "needs_background": "light"
     },
     "output_type": "display_data"
    }
   ],
   "source": [
    "demand_df = pd.read_csv('./demands.csv')\n",
    "print(demand_df.timestamp.max(), demand_df.timestamp.min())\n",
    "\n",
    "# demand_df = demand_df[demand_df['timestamp']>='2021-10-01']\n",
    "c_demand = demand_df[(demand_df['item_id']==\"FOODS_1_218\") & (demand_df['store_id']==\"WI_3\") & (demand_df['timestamp']>=\"2016-01-01\")]\n",
    "c_demand.groupby(['item_id','timestamp']).sum().reset_index().plot.bar(figsize=(60,5), x='timestamp', y='demand')"
   ]
  },
  {
   "cell_type": "markdown",
   "metadata": {},
   "source": [
    "Typically, you would save the assembled accuracy file on your S3 bucket.  We've already saved it to data/bike_backtest_accuracies.csv."
   ]
  },
  {
   "cell_type": "markdown",
   "metadata": {},
   "source": [
    "### Assemble and read Forecasted values file"
   ]
  },
  {
   "cell_type": "code",
   "execution_count": 20,
   "metadata": {},
   "outputs": [
    {
     "name": "stdout",
     "output_type": "stream",
     "text": [
      "path to files: backtest_exports/m5_sku_prediction_2m_4_01FX2ZBY5C9ERGA15PMEP0A2BT/forecasted-values/\n"
     ]
    }
   ],
   "source": [
    "# path to files is everything after BUCKET_NAME/, it should end in \"/\"\n",
    "s3_path_to_files = export_path.split(default_bucket)[1][1:]\n",
    "s3_path_to_files = s3_path_to_files + \"forecasted-values/\"\n",
    "print(f\"path to files: {s3_path_to_files}\")"
   ]
  },
  {
   "cell_type": "code",
   "execution_count": 21,
   "metadata": {},
   "outputs": [
    {
     "name": "stdout",
     "output_type": "stream",
     "text": [
      "Number .part files found: 26\n"
     ]
    }
   ],
   "source": [
    "df = read_backtest_predictions(default_bucket, s3_path_to_files, backtest_date=None)"
   ]
  },
  {
   "cell_type": "code",
   "execution_count": 22,
   "metadata": {},
   "outputs": [
    {
     "data": {
      "text/html": [
       "<div>\n",
       "<style scoped>\n",
       "    .dataframe tbody tr th:only-of-type {\n",
       "        vertical-align: middle;\n",
       "    }\n",
       "\n",
       "    .dataframe tbody tr th {\n",
       "        vertical-align: top;\n",
       "    }\n",
       "\n",
       "    .dataframe thead th {\n",
       "        text-align: right;\n",
       "    }\n",
       "</style>\n",
       "<table border=\"1\" class=\"dataframe\">\n",
       "  <thead>\n",
       "    <tr style=\"text-align: right;\">\n",
       "      <th></th>\n",
       "      <th>item_id</th>\n",
       "      <th>store_id</th>\n",
       "      <th>state_id</th>\n",
       "      <th>timestamp</th>\n",
       "      <th>target_value</th>\n",
       "      <th>backtestwindow_start_time</th>\n",
       "      <th>backtestwindow_end_time</th>\n",
       "      <th>p10</th>\n",
       "      <th>p50</th>\n",
       "      <th>p90</th>\n",
       "    </tr>\n",
       "  </thead>\n",
       "  <tbody>\n",
       "    <tr>\n",
       "      <th>0</th>\n",
       "      <td>FOODS_1_132</td>\n",
       "      <td>TX_3</td>\n",
       "      <td>TX</td>\n",
       "      <td>2016-03-06T00:00:00Z</td>\n",
       "      <td>5.00000</td>\n",
       "      <td>2016-03-06T00:00:00</td>\n",
       "      <td>2016-04-24T00:00:00</td>\n",
       "      <td>-2.43042</td>\n",
       "      <td>3.34389</td>\n",
       "      <td>8.81956</td>\n",
       "    </tr>\n",
       "    <tr>\n",
       "      <th>1</th>\n",
       "      <td>FOODS_1_132</td>\n",
       "      <td>TX_3</td>\n",
       "      <td>TX</td>\n",
       "      <td>2016-03-13T00:00:00Z</td>\n",
       "      <td>5.00000</td>\n",
       "      <td>2016-03-06T00:00:00</td>\n",
       "      <td>2016-04-24T00:00:00</td>\n",
       "      <td>-1.87394</td>\n",
       "      <td>3.31334</td>\n",
       "      <td>9.17186</td>\n",
       "    </tr>\n",
       "    <tr>\n",
       "      <th>2</th>\n",
       "      <td>FOODS_1_132</td>\n",
       "      <td>TX_3</td>\n",
       "      <td>TX</td>\n",
       "      <td>2016-03-20T00:00:00Z</td>\n",
       "      <td>1.00000</td>\n",
       "      <td>2016-03-06T00:00:00</td>\n",
       "      <td>2016-04-24T00:00:00</td>\n",
       "      <td>-1.96740</td>\n",
       "      <td>3.35200</td>\n",
       "      <td>9.26628</td>\n",
       "    </tr>\n",
       "    <tr>\n",
       "      <th>3</th>\n",
       "      <td>FOODS_1_132</td>\n",
       "      <td>TX_3</td>\n",
       "      <td>TX</td>\n",
       "      <td>2016-03-27T00:00:00Z</td>\n",
       "      <td>2.00000</td>\n",
       "      <td>2016-03-06T00:00:00</td>\n",
       "      <td>2016-04-24T00:00:00</td>\n",
       "      <td>-2.15602</td>\n",
       "      <td>3.05438</td>\n",
       "      <td>9.76021</td>\n",
       "    </tr>\n",
       "    <tr>\n",
       "      <th>4</th>\n",
       "      <td>FOODS_1_132</td>\n",
       "      <td>TX_3</td>\n",
       "      <td>TX</td>\n",
       "      <td>2016-04-03T00:00:00Z</td>\n",
       "      <td>6.00000</td>\n",
       "      <td>2016-03-06T00:00:00</td>\n",
       "      <td>2016-04-24T00:00:00</td>\n",
       "      <td>-2.34328</td>\n",
       "      <td>2.57940</td>\n",
       "      <td>9.02432</td>\n",
       "    </tr>\n",
       "  </tbody>\n",
       "</table>\n",
       "</div>"
      ],
      "text/plain": [
       "       item_id store_id state_id             timestamp  target_value backtestwindow_start_time backtestwindow_end_time      p10     p50     p90\n",
       "0  FOODS_1_132     TX_3       TX  2016-03-06T00:00:00Z       5.00000       2016-03-06T00:00:00     2016-04-24T00:00:00 -2.43042 3.34389 8.81956\n",
       "1  FOODS_1_132     TX_3       TX  2016-03-13T00:00:00Z       5.00000       2016-03-06T00:00:00     2016-04-24T00:00:00 -1.87394 3.31334 9.17186\n",
       "2  FOODS_1_132     TX_3       TX  2016-03-20T00:00:00Z       1.00000       2016-03-06T00:00:00     2016-04-24T00:00:00 -1.96740 3.35200 9.26628\n",
       "3  FOODS_1_132     TX_3       TX  2016-03-27T00:00:00Z       2.00000       2016-03-06T00:00:00     2016-04-24T00:00:00 -2.15602 3.05438 9.76021\n",
       "4  FOODS_1_132     TX_3       TX  2016-04-03T00:00:00Z       6.00000       2016-03-06T00:00:00     2016-04-24T00:00:00 -2.34328 2.57940 9.02432"
      ]
     },
     "execution_count": 22,
     "metadata": {},
     "output_type": "execute_result"
    }
   ],
   "source": [
    "df.head()"
   ]
  },
  {
   "cell_type": "code",
   "execution_count": 23,
   "metadata": {},
   "outputs": [
    {
     "name": "stdout",
     "output_type": "stream",
     "text": [
      "num quantiles: 3\n",
      "Num items: 300\n",
      "Backtest Window Start Dates\n"
     ]
    },
    {
     "data": {
      "text/html": [
       "<div>\n",
       "<style scoped>\n",
       "    .dataframe tbody tr th:only-of-type {\n",
       "        vertical-align: middle;\n",
       "    }\n",
       "\n",
       "    .dataframe tbody tr th {\n",
       "        vertical-align: top;\n",
       "    }\n",
       "\n",
       "    .dataframe thead th {\n",
       "        text-align: right;\n",
       "    }\n",
       "</style>\n",
       "<table border=\"1\" class=\"dataframe\">\n",
       "  <thead>\n",
       "    <tr style=\"text-align: right;\">\n",
       "      <th></th>\n",
       "      <th>item_id</th>\n",
       "      <th>store_id</th>\n",
       "      <th>state_id</th>\n",
       "      <th>timestamp</th>\n",
       "      <th>target_value</th>\n",
       "      <th>backtestwindow_start_time</th>\n",
       "      <th>backtestwindow_end_time</th>\n",
       "      <th>p10</th>\n",
       "      <th>p50</th>\n",
       "      <th>p90</th>\n",
       "    </tr>\n",
       "  </thead>\n",
       "  <tbody>\n",
       "    <tr>\n",
       "      <th>16834</th>\n",
       "      <td>FOODS_2_063</td>\n",
       "      <td>CA_2</td>\n",
       "      <td>CA</td>\n",
       "      <td>2016-03-20</td>\n",
       "      <td>19.00000</td>\n",
       "      <td>2016-03-06</td>\n",
       "      <td>2016-04-24</td>\n",
       "      <td>5.85783</td>\n",
       "      <td>14.56157</td>\n",
       "      <td>23.48275</td>\n",
       "    </tr>\n",
       "    <tr>\n",
       "      <th>22731</th>\n",
       "      <td>FOODS_1_163</td>\n",
       "      <td>CA_1</td>\n",
       "      <td>CA</td>\n",
       "      <td>2016-03-27</td>\n",
       "      <td>4.00000</td>\n",
       "      <td>2016-03-06</td>\n",
       "      <td>2016-04-24</td>\n",
       "      <td>-10.28550</td>\n",
       "      <td>16.42235</td>\n",
       "      <td>41.92633</td>\n",
       "    </tr>\n",
       "    <tr>\n",
       "      <th>3176</th>\n",
       "      <td>FOODS_1_136</td>\n",
       "      <td>TX_1</td>\n",
       "      <td>TX</td>\n",
       "      <td>2016-03-06</td>\n",
       "      <td>0.00000</td>\n",
       "      <td>2016-03-06</td>\n",
       "      <td>2016-04-24</td>\n",
       "      <td>-0.65414</td>\n",
       "      <td>0.19909</td>\n",
       "      <td>1.05287</td>\n",
       "    </tr>\n",
       "    <tr>\n",
       "      <th>1027</th>\n",
       "      <td>FOODS_1_109</td>\n",
       "      <td>WI_2</td>\n",
       "      <td>WI</td>\n",
       "      <td>2016-03-27</td>\n",
       "      <td>3.00000</td>\n",
       "      <td>2016-03-06</td>\n",
       "      <td>2016-04-24</td>\n",
       "      <td>-1.97534</td>\n",
       "      <td>4.02560</td>\n",
       "      <td>10.37644</td>\n",
       "    </tr>\n",
       "    <tr>\n",
       "      <th>3355</th>\n",
       "      <td>FOODS_1_128</td>\n",
       "      <td>WI_1</td>\n",
       "      <td>WI</td>\n",
       "      <td>2016-03-27</td>\n",
       "      <td>1.00000</td>\n",
       "      <td>2016-03-06</td>\n",
       "      <td>2016-04-24</td>\n",
       "      <td>0.51100</td>\n",
       "      <td>4.74074</td>\n",
       "      <td>9.06526</td>\n",
       "    </tr>\n",
       "  </tbody>\n",
       "</table>\n",
       "</div>"
      ],
      "text/plain": [
       "           item_id store_id state_id  timestamp  target_value backtestwindow_start_time backtestwindow_end_time       p10      p50      p90\n",
       "16834  FOODS_2_063     CA_2       CA 2016-03-20      19.00000                2016-03-06              2016-04-24   5.85783 14.56157 23.48275\n",
       "22731  FOODS_1_163     CA_1       CA 2016-03-27       4.00000                2016-03-06              2016-04-24 -10.28550 16.42235 41.92633\n",
       "3176   FOODS_1_136     TX_1       TX 2016-03-06       0.00000                2016-03-06              2016-04-24  -0.65414  0.19909  1.05287\n",
       "1027   FOODS_1_109     WI_2       WI 2016-03-27       3.00000                2016-03-06              2016-04-24  -1.97534  4.02560 10.37644\n",
       "3355   FOODS_1_128     WI_1       WI 2016-03-27       1.00000                2016-03-06              2016-04-24   0.51100  4.74074  9.06526"
      ]
     },
     "execution_count": 23,
     "metadata": {},
     "output_type": "execute_result"
    }
   ],
   "source": [
    "\n",
    "## READ THE FORECASTS FILE\n",
    "\n",
    "\n",
    "item_id = \"item_id\"\n",
    "target_value = \"target_value\"\n",
    "timestamp = \"timestamp\"\n",
    "location_id = \"location\"\n",
    "\n",
    "\n",
    "def cast_quantile_cols(result_df):\n",
    "    predictor_cols = ['item_id','store_id', 'state_id', 'timestamp', 'rest_no', 'backtestwindow_start_time', 'backtestwindow_end_time']\n",
    "    exclude_cols = predictor_cols.copy()\n",
    "    exclude_cols.append(target_value)\n",
    "\n",
    "    # get quantile columns from forecast dataframe\n",
    "    quantile_cols = [c for c in result_df.columns if c not in exclude_cols] \n",
    "    num_quantiles = len(quantile_cols)\n",
    "    print(f\"num quantiles: {num_quantiles}\")\n",
    "    for q in quantile_cols:\n",
    "        result_df[q] = pd.to_numeric(result_df[q], errors='coerce')\n",
    "\n",
    "    return result_df\n",
    "    \n",
    "def postprocess_predicted_value(result_df):\n",
    "    result_df = result_df.loc[(result_df.backtestwindow_start_time != \"backtestwindow_start_time\"), :].copy()\n",
    "    result_df.drop_duplicates(inplace=True)\n",
    "    result_df.item_id = result_df.item_id.astype(str)\n",
    "    result_df.target_value = pd.to_numeric(result_df.target_value, errors='coerce')\n",
    "    df.timestamp = pd.to_datetime(df.timestamp\n",
    "                                                 , format=\"%Y-%m-%dT%H:%M:%S\", errors='coerce')\n",
    "    result_df['backtestwindow_start_time'] = pd.to_datetime(result_df['backtestwindow_start_time']\n",
    "                                                 , format=\"%Y-%m-%dT%H:%M:%S\", errors='coerce')\n",
    "    result_df['backtestwindow_end_time'] = pd.to_datetime(result_df['backtestwindow_end_time']\n",
    "                                                 , format=\"%Y-%m-%dT%H:%M:%S\", errors='coerce')\n",
    "    # convert UTC timestamp to timezone unaware\n",
    "    result_df['backtestwindow_start_time'] = result_df.backtestwindow_start_time.dt.tz_localize(None)\n",
    "    result_df['backtestwindow_end_time'] = result_df.backtestwindow_end_time.dt.tz_localize(None)\n",
    "    result_df.timestamp = df.timestamp.dt.tz_localize(None)\n",
    "    result_df.drop_duplicates(inplace=True)\n",
    "    result_df = cast_quantile_cols(result_df)  \n",
    "    return result_df\n",
    "\n",
    "df = postprocess_predicted_value(df)\n",
    "\n",
    "# check\n",
    "num_items = len(df['item_id'].value_counts(normalize=True, dropna=False))\n",
    "print(f\"Num items: {num_items}\")\n",
    "print(\"Backtest Window Start Dates\")\n",
    "\n",
    "\n",
    "df.sample(5)"
   ]
  },
  {
   "cell_type": "code",
   "execution_count": 24,
   "metadata": {},
   "outputs": [
    {
     "data": {
      "text/plain": [
       "array(['TX_3', 'WI_1', 'CA_4', 'CA_3', 'CA_1', 'WI_2', 'TX_2', 'TX_1',\n",
       "       'CA_2', 'WI_3'], dtype=object)"
      ]
     },
     "execution_count": 24,
     "metadata": {},
     "output_type": "execute_result"
    }
   ],
   "source": [
    "df['store_id'].unique()"
   ]
  },
  {
   "cell_type": "code",
   "execution_count": 25,
   "metadata": {},
   "outputs": [
    {
     "name": "stdout",
     "output_type": "stream",
     "text": [
      "num quantiles: 3\n"
     ]
    },
    {
     "data": {
      "text/plain": [
       "['p10', 'p50', 'p90']"
      ]
     },
     "execution_count": 25,
     "metadata": {},
     "output_type": "execute_result"
    }
   ],
   "source": [
    "predictor_cols = ['item_id', 'timestamp', 'store_id', 'state_id', 'rest_no', 'backtestwindow_start_time', 'backtestwindow_end_time']\n",
    "# exclude cols to automatically find quantiles\n",
    "exclude_cols = predictor_cols.copy()\n",
    "exclude_cols.append(target_value)\n",
    "\n",
    "# get quantile columns from forecast dataframe\n",
    "quantile_cols = [c for c in df.columns if c not in exclude_cols] \n",
    "num_quantiles = len(quantile_cols)\n",
    "print(f\"num quantiles: {num_quantiles}\")\n",
    "quantile_cols"
   ]
  },
  {
   "cell_type": "markdown",
   "metadata": {},
   "source": [
    "Typically, you would save the assembled accuracy file on your S3 bucket.  We've already saved it to data/bike_backtest_forecasts.csv."
   ]
  },
  {
   "cell_type": "markdown",
   "metadata": {},
   "source": [
    "## Demo using the item-level forecast files  \n",
    "\n",
    "The rest of this notebook will focus on how to use the item-level forecasts from the Predictor backtest windows. \n",
    "<br>"
   ]
  },
  {
   "cell_type": "markdown",
   "metadata": {},
   "source": [
    "#### Before calling error calcs, truncate negative actuals and predictions to 0\n",
    "If you are not expecting negatives, such as for counts"
   ]
  },
  {
   "cell_type": "code",
   "execution_count": 26,
   "metadata": {},
   "outputs": [
    {
     "name": "stdout",
     "output_type": "stream",
     "text": [
      "Num negative p10 predictors: 11738\n",
      "Num negative p10 predictors: 0\n",
      "Num negative p50 predictors: 502\n",
      "Num negative p50 predictors: 0\n",
      "Num negative p90 predictors: 0\n",
      "Num negative p90 predictors: 0\n",
      "Num negative actuals: 0\n",
      "Num negative actuals: 0\n"
     ]
    }
   ],
   "source": [
    "\n",
    "### Before calling error calcs, truncate negative actuals and predictions to 0\n",
    "\n",
    "df_eligible = df.copy()\n",
    "df_eligible = truncate_negatives_to_zero(df_eligible\n",
    "                                         , target_value_col=target_value\n",
    "                                         , quantile_cols=quantile_cols)\n"
   ]
  },
  {
   "cell_type": "code",
   "execution_count": 27,
   "metadata": {},
   "outputs": [
    {
     "name": "stdout",
     "output_type": "stream",
     "text": [
      "(24000, 10)\n"
     ]
    },
    {
     "data": {
      "text/html": [
       "<div>\n",
       "<style scoped>\n",
       "    .dataframe tbody tr th:only-of-type {\n",
       "        vertical-align: middle;\n",
       "    }\n",
       "\n",
       "    .dataframe tbody tr th {\n",
       "        vertical-align: top;\n",
       "    }\n",
       "\n",
       "    .dataframe thead th {\n",
       "        text-align: right;\n",
       "    }\n",
       "</style>\n",
       "<table border=\"1\" class=\"dataframe\">\n",
       "  <thead>\n",
       "    <tr style=\"text-align: right;\">\n",
       "      <th></th>\n",
       "      <th>item_id</th>\n",
       "      <th>store_id</th>\n",
       "      <th>state_id</th>\n",
       "      <th>timestamp</th>\n",
       "      <th>target_value</th>\n",
       "      <th>backtestwindow_start_time</th>\n",
       "      <th>backtestwindow_end_time</th>\n",
       "      <th>p10</th>\n",
       "      <th>p50</th>\n",
       "      <th>p90</th>\n",
       "    </tr>\n",
       "  </thead>\n",
       "  <tbody>\n",
       "    <tr>\n",
       "      <th>17627</th>\n",
       "      <td>FOODS_1_020</td>\n",
       "      <td>TX_2</td>\n",
       "      <td>TX</td>\n",
       "      <td>2016-03-27</td>\n",
       "      <td>1.00000</td>\n",
       "      <td>2016-03-06</td>\n",
       "      <td>2016-04-24</td>\n",
       "      <td>0.00000</td>\n",
       "      <td>1.45665</td>\n",
       "      <td>4.63642</td>\n",
       "    </tr>\n",
       "    <tr>\n",
       "      <th>19237</th>\n",
       "      <td>FOODS_2_022</td>\n",
       "      <td>WI_1</td>\n",
       "      <td>WI</td>\n",
       "      <td>2016-04-10</td>\n",
       "      <td>31.00000</td>\n",
       "      <td>2016-03-06</td>\n",
       "      <td>2016-04-24</td>\n",
       "      <td>3.90664</td>\n",
       "      <td>15.19955</td>\n",
       "      <td>25.68068</td>\n",
       "    </tr>\n",
       "    <tr>\n",
       "      <th>19977</th>\n",
       "      <td>FOODS_2_035</td>\n",
       "      <td>TX_3</td>\n",
       "      <td>TX</td>\n",
       "      <td>2016-03-13</td>\n",
       "      <td>11.00000</td>\n",
       "      <td>2016-03-06</td>\n",
       "      <td>2016-04-24</td>\n",
       "      <td>7.13598</td>\n",
       "      <td>13.64340</td>\n",
       "      <td>19.67663</td>\n",
       "    </tr>\n",
       "    <tr>\n",
       "      <th>22393</th>\n",
       "      <td>FOODS_2_063</td>\n",
       "      <td>WI_1</td>\n",
       "      <td>WI</td>\n",
       "      <td>2016-03-13</td>\n",
       "      <td>15.00000</td>\n",
       "      <td>2016-03-06</td>\n",
       "      <td>2016-04-24</td>\n",
       "      <td>14.34823</td>\n",
       "      <td>24.47482</td>\n",
       "      <td>34.91879</td>\n",
       "    </tr>\n",
       "    <tr>\n",
       "      <th>15321</th>\n",
       "      <td>FOODS_1_033</td>\n",
       "      <td>WI_2</td>\n",
       "      <td>WI</td>\n",
       "      <td>2016-03-13</td>\n",
       "      <td>0.00000</td>\n",
       "      <td>2016-03-06</td>\n",
       "      <td>2016-04-24</td>\n",
       "      <td>0.00000</td>\n",
       "      <td>0.43672</td>\n",
       "      <td>2.49091</td>\n",
       "    </tr>\n",
       "  </tbody>\n",
       "</table>\n",
       "</div>"
      ],
      "text/plain": [
       "           item_id store_id state_id  timestamp  target_value backtestwindow_start_time backtestwindow_end_time      p10      p50      p90\n",
       "17627  FOODS_1_020     TX_2       TX 2016-03-27       1.00000                2016-03-06              2016-04-24  0.00000  1.45665  4.63642\n",
       "19237  FOODS_2_022     WI_1       WI 2016-04-10      31.00000                2016-03-06              2016-04-24  3.90664 15.19955 25.68068\n",
       "19977  FOODS_2_035     TX_3       TX 2016-03-13      11.00000                2016-03-06              2016-04-24  7.13598 13.64340 19.67663\n",
       "22393  FOODS_2_063     WI_1       WI 2016-03-13      15.00000                2016-03-06              2016-04-24 14.34823 24.47482 34.91879\n",
       "15321  FOODS_1_033     WI_2       WI 2016-03-13       0.00000                2016-03-06              2016-04-24  0.00000  0.43672  2.49091"
      ]
     },
     "execution_count": 27,
     "metadata": {},
     "output_type": "execute_result"
    }
   ],
   "source": [
    "# Add window number for convenience\n",
    "# windows = df_eligible.backtestwindow_start_time.value_counts().rename_axis('backtestwindow_start_time').reset_index(name='count')\n",
    "# windows.sort_values('backtestwindow_start_time', inplace=True)\n",
    "# windows.reset_index(inplace=True, drop=True)\n",
    "# windows.drop('count', axis=1, inplace=True)\n",
    "# windows['window'] = windows.index + 1\n",
    "\n",
    "print(df_eligible.shape)\n",
    "# df_eligible = df_eligible.merge(windows, how=\"left\", on=\"backtestwindow_start_time\")\n",
    "# print(df_eligible.shape)\n",
    "df_eligible.sample(5)"
   ]
  },
  {
   "cell_type": "code",
   "execution_count": 28,
   "metadata": {},
   "outputs": [
    {
     "data": {
      "text/plain": [
       "array(['2016-03-06T00:00:00.000000000', '2016-03-13T00:00:00.000000000',\n",
       "       '2016-03-20T00:00:00.000000000', '2016-03-27T00:00:00.000000000',\n",
       "       '2016-04-03T00:00:00.000000000', '2016-04-10T00:00:00.000000000',\n",
       "       '2016-04-17T00:00:00.000000000', '2016-04-24T00:00:00.000000000'],\n",
       "      dtype='datetime64[ns]')"
      ]
     },
     "execution_count": 28,
     "metadata": {},
     "output_type": "execute_result"
    }
   ],
   "source": [
    "df_eligible.timestamp.unique()"
   ]
  },
  {
   "cell_type": "code",
   "execution_count": 29,
   "metadata": {},
   "outputs": [
    {
     "data": {
      "text/plain": [
       "item_id                              object\n",
       "store_id                             object\n",
       "state_id                             object\n",
       "timestamp                    datetime64[ns]\n",
       "target_value                        float64\n",
       "backtestwindow_start_time    datetime64[ns]\n",
       "backtestwindow_end_time      datetime64[ns]\n",
       "p10                                 float64\n",
       "p50                                 float64\n",
       "p90                                 float64\n",
       "dtype: object"
      ]
     },
     "execution_count": 29,
     "metadata": {},
     "output_type": "execute_result"
    }
   ],
   "source": [
    "df_eligible.dtypes"
   ]
  },
  {
   "cell_type": "markdown",
   "metadata": {},
   "source": [
    "# Step 3: Visualize the Backtest Window forecasts  <a class=\"anchor\" id=\"visualize\"></a>\n",
    "\n",
    "Below is 1 chart per item, for 5 random items in the \"top-movers\" item group.  Y-axis is Actuals and color-coded Forecasts at each quantile.  X-axis is time, starting from the first Backtest Window and ending with the last Backtest Window.\n",
    "<br>"
   ]
  },
  {
   "cell_type": "markdown",
   "metadata": {},
   "source": [
    "### plot AWS Prediction, Dr Martin Manual Prediction and Actual Value"
   ]
  },
  {
   "cell_type": "code",
   "execution_count": 34,
   "metadata": {},
   "outputs": [
    {
     "data": {
      "text/html": [
       "<div>\n",
       "<style scoped>\n",
       "    .dataframe tbody tr th:only-of-type {\n",
       "        vertical-align: middle;\n",
       "    }\n",
       "\n",
       "    .dataframe tbody tr th {\n",
       "        vertical-align: top;\n",
       "    }\n",
       "\n",
       "    .dataframe thead th {\n",
       "        text-align: right;\n",
       "    }\n",
       "</style>\n",
       "<table border=\"1\" class=\"dataframe\">\n",
       "  <thead>\n",
       "    <tr style=\"text-align: right;\">\n",
       "      <th></th>\n",
       "      <th>store_id</th>\n",
       "      <th>item_id</th>\n",
       "      <th>target_value</th>\n",
       "      <th>p10</th>\n",
       "      <th>p50</th>\n",
       "      <th>p90</th>\n",
       "    </tr>\n",
       "    <tr>\n",
       "      <th>timestamp</th>\n",
       "      <th></th>\n",
       "      <th></th>\n",
       "      <th></th>\n",
       "      <th></th>\n",
       "      <th></th>\n",
       "      <th></th>\n",
       "    </tr>\n",
       "  </thead>\n",
       "  <tbody>\n",
       "    <tr>\n",
       "      <th>2016-03-06</th>\n",
       "      <td>CA_3</td>\n",
       "      <td>FOODS_1_200</td>\n",
       "      <td>78.00000</td>\n",
       "      <td>73.92325</td>\n",
       "      <td>129.59540</td>\n",
       "      <td>185.46836</td>\n",
       "    </tr>\n",
       "    <tr>\n",
       "      <th>2016-03-06</th>\n",
       "      <td>TX_2</td>\n",
       "      <td>FOODS_2_050</td>\n",
       "      <td>7.00000</td>\n",
       "      <td>11.78867</td>\n",
       "      <td>44.58432</td>\n",
       "      <td>81.54507</td>\n",
       "    </tr>\n",
       "    <tr>\n",
       "      <th>2016-03-06</th>\n",
       "      <td>WI_1</td>\n",
       "      <td>FOODS_1_018</td>\n",
       "      <td>50.00000</td>\n",
       "      <td>31.64982</td>\n",
       "      <td>53.10716</td>\n",
       "      <td>77.92701</td>\n",
       "    </tr>\n",
       "    <tr>\n",
       "      <th>2016-03-06</th>\n",
       "      <td>WI_1</td>\n",
       "      <td>FOODS_1_085</td>\n",
       "      <td>67.00000</td>\n",
       "      <td>62.69525</td>\n",
       "      <td>94.37227</td>\n",
       "      <td>131.94283</td>\n",
       "    </tr>\n",
       "    <tr>\n",
       "      <th>2016-03-06</th>\n",
       "      <td>WI_2</td>\n",
       "      <td>FOODS_2_013</td>\n",
       "      <td>192.00000</td>\n",
       "      <td>101.78096</td>\n",
       "      <td>134.87113</td>\n",
       "      <td>169.69454</td>\n",
       "    </tr>\n",
       "  </tbody>\n",
       "</table>\n",
       "</div>"
      ],
      "text/plain": [
       "           store_id      item_id  target_value       p10       p50       p90\n",
       "timestamp                                                                   \n",
       "2016-03-06     CA_3  FOODS_1_200      78.00000  73.92325 129.59540 185.46836\n",
       "2016-03-06     TX_2  FOODS_2_050       7.00000  11.78867  44.58432  81.54507\n",
       "2016-03-06     WI_1  FOODS_1_018      50.00000  31.64982  53.10716  77.92701\n",
       "2016-03-06     WI_1  FOODS_1_085      67.00000  62.69525  94.37227 131.94283\n",
       "2016-03-06     WI_2  FOODS_2_013     192.00000 101.78096 134.87113 169.69454"
      ]
     },
     "execution_count": 34,
     "metadata": {},
     "output_type": "execute_result"
    }
   ],
   "source": [
    "# instead of random top-movers, choose some fixed examples\n",
    "#worst 10 (RMSE)\n",
    "# 544\tFOODS_2_013\tWI_2\n",
    "# 596\tFOODS_2_021\tWI_2\n",
    "# 1735\tFOODS_1_204\tWI_2\n",
    "# 606\tFOODS_1_200\tCA_3\n",
    "# 3995\tFOODS_1_204\tWI_1\n",
    "# 3590\tFOODS_1_018\tWI_2\n",
    "# 2869\tFOODS_1_113\tWI_2\n",
    "# 1739\tFOODS_1_032\tWI_1\n",
    "# 5867\tFOODS_2_021\tWI_3\n",
    "# 5847\tFOODS_1_082\tWI_2\n",
    "\n",
    "# 20-30 \n",
    "# 47\tFOODS_1_218\tWI_3\n",
    "# 5662\tFOODS_1_200\tTX_2\n",
    "# 916\tFOODS_1_096\tWI_3\n",
    "# 4\tFOODS_1_200\tCA_1\n",
    "# 5115\tFOODS_2_021\tCA_3\n",
    "# 3950\tFOODS_1_085\tWI_1\n",
    "# 1704\tFOODS_1_218\tCA_3\n",
    "# 3388\tFOODS_2_021\tCA_1\n",
    "# 4616\tFOODS_2_050\tTX_2\n",
    "# 578\tFOODS_1_004\tCA_1\n",
    "\n",
    "\n",
    "\n",
    "items = ['FOODS_2_013', 'FOODS_1_200', 'FOODS_1_018', 'FOODS_2_050', 'FOODS_1_085']\n",
    "stores = ['WI_2', 'CA_3', 'WI_1', 'TX_2', 'WI_1']\n",
    "plot_columns = ['item_id','store_id','timestamp', 'target_value']\n",
    "plot_columns = plot_columns + quantile_cols\n",
    "# assemble no_weather and weather values\n",
    "plot_objs = []\n",
    "# df_plot = pd.DataFrame()\n",
    "# df_plot = df_eligible[df_eligible.item_id.isin(random_items)][plot_columns].copy()\n",
    "for item, store in zip(items, stores): \n",
    "    c_plot = df_eligible[(df_eligible.item_id==item) & (df_eligible.store_id==store)][plot_columns].copy()\n",
    "    plot_objs.append(c_plot)\n",
    "\n",
    "df_plot = pd.concat(plot_objs,axis=0, ignore_index=True)\n",
    "\n",
    "# rename \"target_value\" to \"actual_value\" for clearer viz\n",
    "df_plot = df_plot.groupby([timestamp, 'store_id', item_id]).sum()\n",
    "df_plot.reset_index(inplace=True)\n",
    "df_plot.set_index(timestamp, inplace=True)\n",
    "df_plot.head()"
   ]
  },
  {
   "cell_type": "code",
   "execution_count": 35,
   "metadata": {},
   "outputs": [
    {
     "data": {
      "text/plain": [
       "Index(['store_id', 'item_id', 'target_value', 'p10', 'p50', 'p90'], dtype='object')"
      ]
     },
     "execution_count": 35,
     "metadata": {},
     "output_type": "execute_result"
    }
   ],
   "source": [
    "df_plot.columns"
   ]
  },
  {
   "cell_type": "code",
   "execution_count": 36,
   "metadata": {},
   "outputs": [
    {
     "name": "stdout",
     "output_type": "stream",
     "text": [
      "['p10', 'p50', 'p90']\n",
      "['p10', 'p50', 'p90']\n",
      "['p10', 'p50', 'p90']\n",
      "['p10', 'p50', 'p90']\n",
      "['p10', 'p50', 'p90']\n"
     ]
    },
    {
     "data": {
      "image/png": "[encoded data removed]",
      "text/plain": [
       "<Figure size 1080x1080 with 5 Axes>"
      ]
     },
     "metadata": {
      "needs_background": "light"
     },
     "output_type": "display_data"
    }
   ],
   "source": [
    "# Visualize items\n",
    "fig, axs = plt.subplots(len(items), 1, figsize=(15, 15), sharex=True)\n",
    "\n",
    "for i in range(len(items)):\n",
    "    \n",
    "    item = items[i]\n",
    "    store = stores[i]\n",
    "    zoomed = df_plot[(df_plot[item_id]==item) & (df_plot['store_id']==store)].copy()\n",
    "\n",
    "    zoomed[['target_value']].plot(ax=axs[i], color='k')\n",
    "    colors = ['mediumpurple', 'orange', 'deepskyblue']\n",
    "    print(quantile_cols)\n",
    "    for j in range(len(quantile_cols)):\n",
    "        quantile = quantile_cols[j]\n",
    "        zoomed[[quantile]].plot(ax=axs[i], color=colors[j])\n",
    "            \n",
    "    axs[i].set_title(f\"item_id={item}\")  \n",
    "    # set common Y label \n",
    "    fig.text(0.04, 0.5, 'Hourly demand', va='center', rotation='vertical')\n",
    "    \n",
    "    # format the x ticks\n",
    "    axs[i].set_xlabel(\"Datetime\")   \n",
    "        \n",
    "    # format the grid\n",
    "    axs[i].grid(False)\n",
    "    axs[i].grid(which='minor', axis='x')"
   ]
  },
  {
   "cell_type": "markdown",
   "metadata": {},
   "source": [
    "Above, peak hours for bicycle rental appear to be between 5-9am and 3-9pm.  For a real customer study, we really should select more data to verify the peak hours...\n",
    "<br>"
   ]
  },
  {
   "cell_type": "code",
   "execution_count": 37,
   "metadata": {},
   "outputs": [
    {
     "data": {
      "text/plain": [
       "<AxesSubplot:xlabel='timestamp'>"
      ]
     },
     "execution_count": 37,
     "metadata": {},
     "output_type": "execute_result"
    },
    {
     "data": {
      "image/png": "[encoded data removed]",
      "text/plain": [
       "<Figure size 4320x360 with 1 Axes>"
      ]
     },
     "metadata": {
      "needs_background": "light"
     },
     "output_type": "display_data"
    }
   ],
   "source": [
    "c_demand = demand_df[(demand_df['item_id']==\"FOODS_2_013\") & (demand_df['store_id']==\"WI_2\") & (demand_df['timestamp']>=\"2012-01-01\")]\n",
    "c_demand.groupby(['item_id','timestamp']).sum().reset_index().plot.bar(figsize=(60,5), x='timestamp', y='demand')"
   ]
  },
  {
   "cell_type": "code",
   "execution_count": null,
   "metadata": {},
   "outputs": [],
   "source": []
  }
 ],
 "metadata": {
  "kernelspec": {
   "display_name": "conda_python3",
   "language": "python",
   "name": "conda_python3"
  },
  "language_info": {
   "codemirror_mode": {
    "name": "ipython",
    "version": 3
   },
   "file_extension": ".py",
   "mimetype": "text/x-python",
   "name": "python",
   "nbconvert_exporter": "python",
   "pygments_lexer": "ipython3",
   "version": "3.6.13"
  }
 },
 "nbformat": 4,
 "nbformat_minor": 4
}
